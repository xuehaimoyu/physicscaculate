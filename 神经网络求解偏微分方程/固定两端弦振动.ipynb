{
 "cells": [
  {
   "cell_type": "markdown",
   "id": "34d0e0fa",
   "metadata": {},
   "source": [
    "# 调用必备库"
   ]
  },
  {
   "cell_type": "code",
   "execution_count": 1,
   "id": "fc0cb58d",
   "metadata": {},
   "outputs": [
    {
     "data": {
      "text/plain": [
       "<torch._C.Generator at 0x1a7d9bf8110>"
      ]
     },
     "execution_count": 1,
     "metadata": {},
     "output_type": "execute_result"
    }
   ],
   "source": [
    "import time\n",
    "import torch\n",
    "import torch.nn as nn\n",
    "import pandas as pd\n",
    "import numpy as np\n",
    "import matplotlib.pyplot as plt\n",
    "import math\n",
    "from torch.autograd import Variable\n",
    "import torch.nn.functional as F\n",
    "import torch.optim as optim\n",
    "\n",
    "np.random.seed(42)\n",
    "torch.manual_seed(42)"
   ]
  },
  {
   "cell_type": "markdown",
   "id": "20df8a3c",
   "metadata": {},
   "source": [
    "# 先随便搭建个简单的神经网络\n"
   ]
  },
  {
   "cell_type": "markdown",
   "id": "8f9e9172",
   "metadata": {},
   "source": [
    "尝试求解一下两端点固定的自由振动问题\n",
    "\n",
    "$u_{tt}-a^2u_{xx}=0$\n",
    "\n",
    "$u(0,x)=sinx$\n",
    "\n",
    "$u_t(0,x)=cosx$\n",
    "\n",
    "$u(t,0)=0,u(l,t)=0$\n",
    "\n",
    "\n"
   ]
  },
  {
   "cell_type": "markdown",
   "id": "207bea1c",
   "metadata": {},
   "source": [
    "## 神经网络求解"
   ]
  },
  {
   "cell_type": "code",
   "execution_count": 4,
   "id": "c7f2da68",
   "metadata": {},
   "outputs": [],
   "source": [
    "class zsrDGM_net(nn.Module):\n",
    "    def __init__(self,numl,numn):\n",
    "        # numl是有多少层隐藏层\n",
    "        # numn是每层的神经元数量\n",
    "        super(zsrDGM_net, self).__init__()\n",
    "        self.input_layer = nn.Linear(2, numn)#前面的数字代表几个输入\n",
    "        self.hidden_layers = nn.ModuleList([nn.Linear(numn, numn) for i in range(numl)])\n",
    "        self.output_layer = nn.Linear(numn, 1)\n",
    "    def forward(self, x):\n",
    "        o = self.act(self.input_layer(x))\n",
    "        for i, li in enumerate(self.hidden_layers):\n",
    "            o = self.act(li(o))        \n",
    "        out = self.output_layer(o)        \n",
    "        return out\n",
    "    def act(self, x):\n",
    "        return x * torch.tanh(x)"
   ]
  },
  {
   "cell_type": "code",
   "execution_count": 5,
   "id": "130e88b9",
   "metadata": {},
   "outputs": [],
   "source": [
    "class PDE():\n",
    "    def __init__(self, net, a,l,t):\n",
    "        self.net=net\n",
    "        self.a=a\n",
    "        self.l=l\n",
    "        self.t=t\n",
    "    def sample(self,size=2**8):        \n",
    "        x = torch.cat((torch.rand([size, 1]) * self.t, torch.rand([size, 1]) * self.l), dim=1)\n",
    "        x_init = torch.rand([size, 1]) * self.l\n",
    "        x_initial = torch.cat((torch.zeros(size, 1), x_init), dim=1)\n",
    "        x_boundary_left = torch.cat((torch.rand([size, 1])*self.t, torch.full([size, 1], 0)), dim=1)\n",
    "        x_boundary_right = torch.cat((torch.rand([size, 1])*self.t, torch.full([size, 1], l)), dim=1)\n",
    "        return x, x_initial, x_init, x_boundary_left, x_boundary_right\n",
    "    def loss_func(self,size=2**8):\n",
    "        x_train, x_initial, x_init, x_boundary_left, x_boundary_right = self.sample(size=size)\n",
    "        x = Variable(x_train, requires_grad=True)\n",
    "        d = torch.autograd.grad(net(x), x, grad_outputs=torch.ones_like(net(x)), create_graph=True)\n",
    "        dt = d[0][:, 0].unsqueeze(-1)\n",
    "        dx = d[0][:, 1].unsqueeze(-1)\n",
    "        dxx = torch.autograd.grad(dx, x, grad_outputs=torch.ones_like(dx), create_graph=True)[0][:, 1].unsqueeze(-1)\n",
    "        dtt = torch.autograd.grad(dt, x, grad_outputs=torch.ones_like(dt), create_graph=True)[0][:, 1].unsqueeze(-1)\n",
    "        x2=Variable(x_initial, requires_grad=True)\n",
    "        d1 = torch.autograd.grad(net(x2), x2, grad_outputs=torch.ones_like(net(x2)), create_graph=True)\n",
    "        dt1 = d1[0][:, 0].unsqueeze(-1)\n",
    "        loss_fn = nn.MSELoss(reduction='mean')\n",
    "        loss1 = loss_fn(dtt, self.a**2*dxx)\n",
    "        loss2 = loss_fn(net(x_initial), torch.sin(x_init))\n",
    "        loss3 = loss_fn(net(x_boundary_left), torch.zeros([size, 1]))\n",
    "        loss4 = loss_fn(net(x_boundary_right), torch.zeros([size, 1]))\n",
    "        loss5 = loss_fn(dt1,1*torch.cos(x_init))\n",
    "        loss = loss1 + loss2 + loss3 + loss4+ loss5\n",
    "        return loss,loss1,loss2,loss3,loss4,loss5\n",
    "        \n",
    "        "
   ]
  },
  {
   "cell_type": "code",
   "execution_count": 6,
   "id": "b745b839",
   "metadata": {},
   "outputs": [],
   "source": [
    "class Train():\n",
    "    def __init__(self, net, eq, BATCH_SIZE):\n",
    "        self.errors = []\n",
    "        self.BATCH_SIZE = BATCH_SIZE\n",
    "        self.net = net\n",
    "        self.model = eq\n",
    "    def train(self, epoch, lr):\n",
    "        optimizer = optim.Adam(self.net.parameters(), lr)\n",
    "        avg_loss = 0\n",
    "        for e in range(epoch):\n",
    "            optimizer.zero_grad()\n",
    "            loss,loss1,loss2,loss3,loss4,loss5 = self.model.loss_func(self.BATCH_SIZE)\n",
    "            avg_loss = avg_loss + float(loss.item())\n",
    "            loss.backward()\n",
    "            optimizer.step()\n",
    "            if e % 50 == 49:\n",
    "                loss = avg_loss/50\n",
    "                print(\"Epoch {} - lr {} -  loss: {}\".format(e, lr, loss))\n",
    "                avg_loss = 0\n",
    "\n",
    "                error,loss1,loss2,loss3,loss4,loss5 = self.model.loss_func(2**12)\n",
    "                self.errors.append(error.detach())\n",
    "    def get_errors(self):\n",
    "        return self.errors"
   ]
  },
  {
   "cell_type": "code",
   "execution_count": 9,
   "id": "b20d721a",
   "metadata": {},
   "outputs": [
    {
     "name": "stdout",
     "output_type": "stream",
     "text": [
      "Epoch 49 - lr 0.0001 -  loss: 1.0489021706581116\n",
      "Epoch 99 - lr 0.0001 -  loss: 0.9181552374362946\n",
      "Epoch 149 - lr 0.0001 -  loss: 0.7375347304344178\n",
      "Epoch 199 - lr 0.0001 -  loss: 0.6750632786750793\n",
      "Epoch 249 - lr 0.0001 -  loss: 0.49285370349884033\n",
      "Epoch 299 - lr 0.0001 -  loss: 0.21372802823781967\n",
      "Epoch 349 - lr 0.0001 -  loss: 0.13732985004782677\n",
      "Epoch 399 - lr 0.0001 -  loss: 0.10072590097784996\n",
      "Epoch 449 - lr 0.0001 -  loss: 0.06477287232875824\n",
      "Epoch 499 - lr 0.0001 -  loss: 0.053275579288601875\n",
      "Epoch 549 - lr 0.0001 -  loss: 0.0359943887591362\n",
      "Epoch 599 - lr 0.0001 -  loss: 0.03590043190866709\n",
      "Epoch 649 - lr 0.0001 -  loss: 0.021922803670167922\n",
      "Epoch 699 - lr 0.0001 -  loss: 0.02135512441396713\n",
      "Epoch 749 - lr 0.0001 -  loss: 0.016542741991579533\n",
      "Epoch 799 - lr 0.0001 -  loss: 0.015779891069978475\n",
      "Epoch 849 - lr 0.0001 -  loss: 0.015574104096740484\n",
      "Epoch 899 - lr 0.0001 -  loss: 0.012272395845502614\n",
      "Epoch 949 - lr 0.0001 -  loss: 0.012772510964423419\n",
      "Epoch 999 - lr 0.0001 -  loss: 0.011864930540323258\n",
      "Epoch 1049 - lr 0.0001 -  loss: 0.009312702668830752\n",
      "Epoch 1099 - lr 0.0001 -  loss: 0.011807137038558721\n",
      "Epoch 1149 - lr 0.0001 -  loss: 0.00932796036824584\n",
      "Epoch 1199 - lr 0.0001 -  loss: 0.00965738844126463\n",
      "Epoch 1249 - lr 0.0001 -  loss: 0.008282348532229662\n",
      "Epoch 1299 - lr 0.0001 -  loss: 0.008507451443001628\n",
      "Epoch 1349 - lr 0.0001 -  loss: 0.007225914588198066\n",
      "Epoch 1399 - lr 0.0001 -  loss: 0.008589357016608118\n",
      "Epoch 1449 - lr 0.0001 -  loss: 0.0074326901976019145\n",
      "Epoch 1499 - lr 0.0001 -  loss: 0.005756524614989758\n"
     ]
    }
   ],
   "source": [
    "net = zsrDGM_net(numl=7, numn=300)\n",
    "a=1\n",
    "l=np.pi\n",
    "t=1\n",
    "equation = PDE(net, a, l,t)\n",
    "train = Train(net, equation, BATCH_SIZE=2**8)\n",
    "train.train(epoch=1500, lr=0.0001)\n",
    "torch.save(net, 'test.pkl')\n",
    "errors = train.get_errors()"
   ]
  },
  {
   "cell_type": "code",
   "execution_count": 21,
   "id": "df8ecd01",
   "metadata": {},
   "outputs": [
    {
     "name": "stderr",
     "output_type": "stream",
     "text": [
      "C:\\Users\\cm\\anaconda3\\envs\\pytorch\\lib\\site-packages\\matplotlib\\animation.py:879: UserWarning: Animation was deleted without rendering anything. This is most likely not intended. To prevent deletion, assign the Animation to a variable, e.g. `anim`, that exists until you output the Animation using `plt.show()` or `anim.save()`.\n",
      "  warnings.warn(\n"
     ]
    }
   ],
   "source": [
    "fig = plt.figure()\n",
    "plt.plot(np.log(errors), '-b', label='Errors')\n",
    "plt.title('Training Loss', fontsize=10)\n",
    "plt.savefig('error.jpg')\n",
    "plt.close(fig)"
   ]
  },
  {
   "cell_type": "code",
   "execution_count": 13,
   "id": "ce30ffe4",
   "metadata": {},
   "outputs": [],
   "source": [
    "import PyQt5\n",
    "%matplotlib qt5"
   ]
  },
  {
   "cell_type": "code",
   "execution_count": 20,
   "id": "cea7a899",
   "metadata": {},
   "outputs": [],
   "source": [
    "import matplotlib.pyplot as plt\n",
    "from matplotlib import animation\n",
    "import numpy as np\n",
    "net=torch.load('test.pkl')\n",
    "fig, ax = plt.subplots()\n",
    "err=[]\n",
    "# 定义存储数据的列表\n",
    "xdata = []\n",
    "ydata = []\n",
    "\n",
    "# 接收line2D对象\n",
    "line, = plt.plot(xdata, ydata, 'b')\n",
    "xdata=[i/100 for i in range(0,314)]\n",
    "# 定义更新函数\n",
    "def update(frames):\n",
    "    x_1 = torch.tensor([[i/100] for i in range(0,314)])\n",
    "    x_11 = torch.cat((torch.full([314, 1],frames), x_1), dim=1)\n",
    "    ysolve1=net(x_11)\n",
    "    ysolve=ysolve1.detach().numpy()\n",
    "    ydata=[ysolve]\n",
    "    line.set_data(xdata, ydata)\n",
    "    return line\n",
    "\n",
    "\n",
    "def init_figure():\n",
    "    ax.set_xlim(0, 3.14)\n",
    "    ax.set_ylim(-2,2)\n",
    "    ax.set_xlabel('x')\n",
    "    ax.set_ylabel('u')\n",
    "\n",
    "\n",
    "# 调用生成动画的函数生成动图\n",
    "ani = animation.FuncAnimation(\n",
    "    fig=fig,\n",
    "    func=update,\n",
    "    frames=np.linspace(0, 1, 100),    # [1, 2, 3]\n",
    "    init_func=init_figure,\n",
    "    interval=20,   #  每隔多少时间生成一帧图像，单位是ms\n",
    "    repeat=True,   # 设置不重复，但是还是重复较好\n",
    ")\n",
    "\n",
    "#plt.show()   # 如果要保存视频和gif就不要show()\n",
    "#ani.save('shuli.gif', writer='pillow')\n",
    "ani.save('1.mp4', writer='ffmpeg')  # 注意，pillow现在似乎不能报错为mp4格式了，可以使用ffmpeg"
   ]
  }
 ],
 "metadata": {
  "kernelspec": {
   "display_name": "Python 3 (ipykernel)",
   "language": "python",
   "name": "python3"
  },
  "language_info": {
   "codemirror_mode": {
    "name": "ipython",
    "version": 3
   },
   "file_extension": ".py",
   "mimetype": "text/x-python",
   "name": "python",
   "nbconvert_exporter": "python",
   "pygments_lexer": "ipython3",
   "version": "3.8.13"
  },
  "toc": {
   "base_numbering": 1,
   "nav_menu": {},
   "number_sections": true,
   "sideBar": true,
   "skip_h1_title": false,
   "title_cell": "Table of Contents",
   "title_sidebar": "Contents",
   "toc_cell": false,
   "toc_position": {},
   "toc_section_display": true,
   "toc_window_display": false
  }
 },
 "nbformat": 4,
 "nbformat_minor": 5
}
