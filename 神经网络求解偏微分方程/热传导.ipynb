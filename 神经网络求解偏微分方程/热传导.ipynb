{
 "cells": [
  {
   "cell_type": "markdown",
   "id": "34d0e0fa",
   "metadata": {},
   "source": [
    "# 调用必备库"
   ]
  },
  {
   "cell_type": "code",
   "execution_count": 1,
   "id": "183b56db",
   "metadata": {},
   "outputs": [],
   "source": [
    "import PyQt5"
   ]
  },
  {
   "cell_type": "code",
   "execution_count": 2,
   "id": "35948398",
   "metadata": {},
   "outputs": [],
   "source": [
    "%matplotlib qt5"
   ]
  },
  {
   "cell_type": "code",
   "execution_count": 3,
   "id": "fc0cb58d",
   "metadata": {},
   "outputs": [
    {
     "data": {
      "text/plain": [
       "<torch._C.Generator at 0x2340a23aef0>"
      ]
     },
     "execution_count": 3,
     "metadata": {},
     "output_type": "execute_result"
    }
   ],
   "source": [
    "import time\n",
    "import torch\n",
    "import torch.nn as nn\n",
    "import pandas as pd\n",
    "import numpy as np\n",
    "import matplotlib.pyplot as plt\n",
    "import math\n",
    "from torch.autograd import Variable\n",
    "import torch.nn.functional as F\n",
    "import torch.optim as optim\n",
    "\n",
    "np.random.seed(42)\n",
    "torch.manual_seed(42)"
   ]
  },
  {
   "cell_type": "markdown",
   "id": "20df8a3c",
   "metadata": {},
   "source": [
    "# 先随便搭建个简单的神经网络\n"
   ]
  },
  {
   "cell_type": "markdown",
   "id": "8f9e9172",
   "metadata": {},
   "source": [
    "$u_{t}-2u_{xx}=0$         \n",
    "\n",
    "0<=x<=3\n",
    "\n",
    "$u(t,0)=10,u(3,t)=40$\n",
    "\n",
    "$u_t(0,x)=25$\n",
    "\n"
   ]
  },
  {
   "cell_type": "markdown",
   "id": "2fc594ef",
   "metadata": {},
   "source": [
    "## 真实值求解"
   ]
  },
  {
   "cell_type": "code",
   "execution_count": 4,
   "id": "16067bb6",
   "metadata": {},
   "outputs": [],
   "source": [
    "a=1\n",
    "l=3\n",
    "from scipy import integrate\n",
    "import numpy as np\n",
    "def u(x,t):#x在前，t在后\n",
    "    sum=0\n",
    "    err=0\n",
    "    for n in range(1,300):  \n",
    "        sum=sum+1/2/n*np.exp(-8*n**2*np.pi**2*t/9)*np.sin(2*n*np.pi*x/3)\n",
    "    return 60/np.pi*sum+10*(x+1)"
   ]
  },
  {
   "cell_type": "markdown",
   "id": "207bea1c",
   "metadata": {},
   "source": [
    "## 神经网络求解"
   ]
  },
  {
   "cell_type": "code",
   "execution_count": 5,
   "id": "c7f2da68",
   "metadata": {},
   "outputs": [],
   "source": [
    "class zsrDGM_net(nn.Module):\n",
    "    def __init__(self,numl,numn):\n",
    "        # numl是有多少层隐藏层\n",
    "        # numn是每层的神经元数量\n",
    "        super(zsrDGM_net, self).__init__()\n",
    "        self.input_layer = nn.Linear(2, numn)#前面的数字代表几个输入\n",
    "        self.hidden_layers = nn.ModuleList([nn.Linear(numn, numn) for i in range(numl)])\n",
    "        self.output_layer = nn.Linear(numn, 1)\n",
    "    def forward(self, x):\n",
    "        o = self.act(self.input_layer(x))\n",
    "        for i, li in enumerate(self.hidden_layers):\n",
    "            o = self.act(li(o))        \n",
    "        out = self.output_layer(o)        \n",
    "        return out\n",
    "    def act(self, x):\n",
    "        return x * torch.tanh(x)"
   ]
  },
  {
   "cell_type": "code",
   "execution_count": 6,
   "id": "130e88b9",
   "metadata": {},
   "outputs": [],
   "source": [
    "class PDE():\n",
    "    def __init__(self, net,t):\n",
    "        self.net=net\n",
    "        self.t=t\n",
    "    def sample(self,size=2**12):        \n",
    "        x = torch.cat((torch.rand([N1*size, 1]) * self.t, torch.full([N1*size, 1], 0) + torch.rand([N1*size, 1]) * 3), dim=1)\n",
    "        x_init = torch.full([N2*size, 1], 0) + torch.rand([N2*size, 1]) * 3 \n",
    "        x_initial = torch.cat((torch.zeros(N2*size, 1), x_init), dim=1)\n",
    "        x_boundary_left = torch.cat((torch.rand([N3*size, 1])*self.t, torch.full([N3*size, 1], 0)), dim=1)\n",
    "        x_boundary_right = torch.cat((torch.rand([N3*size, 1])*self.t, torch.full([N3*size, 1], 3)), dim=1)\n",
    "        return x, x_initial, x_init, x_boundary_left, x_boundary_right\n",
    "    def loss_func(self,size=2**12):\n",
    "        x_train, x_initial, x_init, x_boundary_left, x_boundary_right = self.sample(size=size)\n",
    "        x = Variable(x_train, requires_grad=True)\n",
    "        d = torch.autograd.grad(net(x), x, grad_outputs=torch.ones_like(net(x)), create_graph=True)\n",
    "        dt = d[0][:, 0].unsqueeze(-1)\n",
    "        dx = d[0][:, 1].unsqueeze(-1)\n",
    "        dxx = torch.autograd.grad(dx, x, grad_outputs=torch.ones_like(dx), create_graph=True)[0][:, 1].unsqueeze(-1)\n",
    "        loss_fn = nn.MSELoss(reduction='mean')\n",
    "        loss1 = loss_fn(dt, 2*dxx)\n",
    "        loss2 = loss_fn(net(x_initial), torch.zeros([N2*size,1])+torch.full([N2*size, 1], 25))\n",
    "        loss3 = loss_fn(net(x_boundary_left), torch.zeros([N3*size,1])+torch.full([N3*size, 1], 10))\n",
    "        loss4 = loss_fn(net(x_boundary_right),torch.zeros([N3*size,1])+torch.full([N3*size, 1], 40))\n",
    "        loss = loss1 + loss2 + loss3 + loss4\n",
    "        #print(loss1,loss2,loss3,loss4)\n",
    "        return loss\n",
    "        \n",
    "        "
   ]
  },
  {
   "cell_type": "code",
   "execution_count": 7,
   "id": "b745b839",
   "metadata": {},
   "outputs": [],
   "source": [
    "class Train():\n",
    "    def __init__(self, net, eq, BATCH_SIZE):\n",
    "        self.errors = []\n",
    "        self.BATCH_SIZE = BATCH_SIZE\n",
    "        self.net = net\n",
    "        self.model = eq\n",
    "    def train(self, epoch, lr):\n",
    "        optimizer = optim.Adam(self.net.parameters(), lr)\n",
    "        avg_loss = 0\n",
    "        for e in range(epoch):\n",
    "            optimizer.zero_grad()\n",
    "            loss = self.model.loss_func(self.BATCH_SIZE)\n",
    "            avg_loss = avg_loss + float(loss.item())\n",
    "            loss.backward()\n",
    "            optimizer.step()\n",
    "            if e % 100 == 99:\n",
    "                loss = avg_loss/100\n",
    "                print(\"Epoch {} - lr {} -  loss: {}\".format(e, lr, loss))\n",
    "                avg_loss = 0\n",
    "\n",
    "                error = self.model.loss_func(2**12)\n",
    "                self.errors.append(error.detach())\n",
    "    def get_errors(self):\n",
    "        return self.errors"
   ]
  },
  {
   "cell_type": "code",
   "execution_count": 16,
   "id": "b20d721a",
   "metadata": {},
   "outputs": [
    {
     "name": "stdout",
     "output_type": "stream",
     "text": [
      "Epoch 99 - lr 0.001 -  loss: 512.2448738098144\n",
      "Epoch 199 - lr 0.001 -  loss: 51.5113646697998\n",
      "Epoch 299 - lr 0.001 -  loss: 29.10129518508911\n",
      "Epoch 399 - lr 0.001 -  loss: 21.429500637054442\n",
      "Epoch 499 - lr 0.001 -  loss: 17.69944037437439\n",
      "Epoch 599 - lr 0.001 -  loss: 16.778919048309326\n",
      "Epoch 699 - lr 0.001 -  loss: 15.39359845161438\n",
      "Epoch 799 - lr 0.001 -  loss: 15.043896923065185\n",
      "Epoch 899 - lr 0.001 -  loss: 14.81040147781372\n",
      "Epoch 999 - lr 0.001 -  loss: 15.527311601638793\n",
      "Epoch 1099 - lr 0.001 -  loss: 13.024066648483277\n",
      "Epoch 1199 - lr 0.001 -  loss: 11.882826948165894\n",
      "Epoch 1299 - lr 0.001 -  loss: 11.5314830493927\n",
      "Epoch 1399 - lr 0.001 -  loss: 11.713484249114991\n",
      "Epoch 1499 - lr 0.001 -  loss: 10.512985763549805\n",
      "Epoch 1599 - lr 0.001 -  loss: 10.459495143890381\n",
      "Epoch 1699 - lr 0.001 -  loss: 11.571468787193298\n",
      "Epoch 1799 - lr 0.001 -  loss: 9.496496448516845\n",
      "Epoch 1899 - lr 0.001 -  loss: 9.653167033195496\n",
      "Epoch 1999 - lr 0.001 -  loss: 8.437394328117371\n",
      "Epoch 2099 - lr 0.001 -  loss: 9.307371072769165\n",
      "Epoch 2199 - lr 0.001 -  loss: 8.782133350372314\n",
      "Epoch 2299 - lr 0.001 -  loss: 8.46686722755432\n",
      "Epoch 2399 - lr 0.001 -  loss: 8.861026835441589\n",
      "Epoch 2499 - lr 0.001 -  loss: 9.256080431938171\n",
      "Epoch 2599 - lr 0.001 -  loss: 7.90084331035614\n",
      "Epoch 2699 - lr 0.001 -  loss: 8.538932676315307\n",
      "Epoch 2799 - lr 0.001 -  loss: 8.326875715255737\n",
      "Epoch 2899 - lr 0.001 -  loss: 7.620283288955688\n",
      "Epoch 2999 - lr 0.001 -  loss: 8.38454197883606\n"
     ]
    }
   ],
   "source": [
    "net = zsrDGM_net(numl=7, numn=200)\n",
    "t=0.5\n",
    "N1=1\n",
    "N2=1\n",
    "N3=3\n",
    "equation = PDE(net,t)\n",
    "train = Train(net, equation, BATCH_SIZE=2**8)\n",
    "train.train(epoch=3000, lr=0.001)\n",
    "torch.save(net, 'test.pkl')\n",
    "errors = train.get_errors()"
   ]
  },
  {
   "cell_type": "code",
   "execution_count": 9,
   "id": "df8ecd01",
   "metadata": {},
   "outputs": [],
   "source": [
    "fig = plt.figure()\n",
    "plt.plot(np.log(errors), '-b', label='Errors')\n",
    "plt.title('Training Loss', fontsize=10)\n",
    "plt.savefig('err.jpg')\n",
    "plt.close(fig)"
   ]
  },
  {
   "cell_type": "code",
   "execution_count": 8,
   "id": "cb0daf73",
   "metadata": {},
   "outputs": [],
   "source": [
    "u_true=[u(test1/10,0.1) for test1 in range(0,30)]\n",
    "net=torch.load('test.pkl')\n",
    "x_1 = torch.tensor([[i/10] for i in range(0,30)])\n",
    "x_11 = torch.cat((torch.full([30, 1],0.1), x_1), dim=1)\n",
    "ysolve=net(x_11)\n",
    "ysolve=ysolve.detach().numpy()\n",
    "x_range=[i/10 for i in range(0,30)]\n",
    "fig=plt.figure(dpi=60)\n",
    "plt.plot(x_range,u_true)\n",
    "plt.plot(x_range,(ysolve))\n",
    "plt.show()"
   ]
  },
  {
   "cell_type": "code",
   "execution_count": 10,
   "id": "7601b05a",
   "metadata": {},
   "outputs": [],
   "source": [
    "import matplotlib.pyplot as plt\n",
    "from matplotlib import animation\n",
    "import numpy as np\n",
    "net=torch.load('test.pkl')\n",
    "fig, ax = plt.subplots()\n",
    "err=[]\n",
    "# 定义存储数据的列表\n",
    "xdata = []\n",
    "ydata = []\n",
    "ydata2= []\n",
    "# 接收line2D对象\n",
    "line, = plt.plot(xdata, ydata, 'b')\n",
    "line1, =plt.plot(xdata,ydata2,'g')\n",
    "xdata=[i/100 for i in range(0,300)]\n",
    "# 定义更新函数\n",
    "def update(frames):\n",
    "    x_1 = torch.tensor([[i/100] for i in range(0,300)])\n",
    "    x_11 = torch.cat((torch.full([300, 1],frames), x_1), dim=1)\n",
    "    ysolve1=net(x_11)\n",
    "    ysolve=ysolve1.detach().numpy()\n",
    "    ydata=[ysolve]\n",
    "    line.set_data(xdata, ydata)\n",
    "    u_true=[u(test1/100,frames) for test1 in range(0,300)]\n",
    "    ydata2=u_true\n",
    "    #print(ydata2)\n",
    "    line1.set_data(xdata,ydata2)\n",
    "    return line,line1\n",
    "\n",
    "\n",
    "def init_figure():\n",
    "    ax.set_xlim(0, 3)\n",
    "    ax.set_ylim(10,40)\n",
    "    ax.set_xlabel('x')\n",
    "    ax.set_ylabel('u')\n",
    "\n",
    "\n",
    "# 调用生成动画的函数生成动图\n",
    "ani = animation.FuncAnimation(\n",
    "    fig=fig,\n",
    "    func=update,\n",
    "    frames=np.linspace(0, 0.5, 100),    # [1, 2, 3]\n",
    "    init_func=init_figure,\n",
    "    interval=100,   #  每隔多少时间生成一帧图像，单位是ms\n",
    "    repeat=True,   # 设置不重复，但是还是重复较好\n",
    ")\n",
    "\n",
    "#plt.show()   # 如果要保存视频和gif就不要show()\n",
    "#ani.save('shuli.gif', writer='pillow')\n",
    "ani.save('1.mp4', writer='ffmpeg')  # 注意，pillow现在似乎不能报错为mp4格式了，可以使用ffmpeg"
   ]
  }
 ],
 "metadata": {
  "kernelspec": {
   "display_name": "Python 3 (ipykernel)",
   "language": "python",
   "name": "python3"
  },
  "language_info": {
   "codemirror_mode": {
    "name": "ipython",
    "version": 3
   },
   "file_extension": ".py",
   "mimetype": "text/x-python",
   "name": "python",
   "nbconvert_exporter": "python",
   "pygments_lexer": "ipython3",
   "version": "3.8.13"
  },
  "toc": {
   "base_numbering": 1,
   "nav_menu": {},
   "number_sections": true,
   "sideBar": true,
   "skip_h1_title": false,
   "title_cell": "Table of Contents",
   "title_sidebar": "Contents",
   "toc_cell": false,
   "toc_position": {},
   "toc_section_display": true,
   "toc_window_display": false
  }
 },
 "nbformat": 4,
 "nbformat_minor": 5
}
