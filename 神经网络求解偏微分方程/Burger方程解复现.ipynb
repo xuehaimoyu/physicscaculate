{
 "cells": [
  {
   "cell_type": "code",
   "execution_count": 3,
   "metadata": {},
   "outputs": [],
   "source": [
    "import PyQt5"
   ]
  },
  {
   "cell_type": "code",
   "execution_count": 4,
   "metadata": {},
   "outputs": [],
   "source": [
    "%matplotlib qt5"
   ]
  },
  {
   "cell_type": "markdown",
   "metadata": {},
   "source": [
    "# 调入必备库"
   ]
  },
  {
   "cell_type": "code",
   "execution_count": 1,
   "metadata": {},
   "outputs": [
    {
     "data": {
      "text/plain": [
       "<torch._C.Generator at 0x19bda188110>"
      ]
     },
     "execution_count": 1,
     "metadata": {},
     "output_type": "execute_result"
    }
   ],
   "source": [
    "import time\n",
    "import torch\n",
    "import torch.nn as nn\n",
    "import pandas as pd\n",
    "import numpy as np\n",
    "import matplotlib.pyplot as plt\n",
    "import math\n",
    "from torch.autograd import Variable\n",
    "import torch.nn.functional as F\n",
    "import torch.optim as optim\n",
    "import warnings\n",
    "warnings.filterwarnings(\"ignore\")\n",
    "np.random.seed(42)\n",
    "torch.manual_seed(42)"
   ]
  },
  {
   "cell_type": "markdown",
   "metadata": {},
   "source": [
    "## 所解决的方程\n",
    "$u_t=vu_{xx}-\\alpha  u u_x$  $x \\in [-1,1]$  $t \\in [-1,1]$\n",
    "\n",
    "$ u(t,0)=a $\n",
    "\n",
    "$ u(t,1)=b $\n",
    "\n",
    "$ u(0,x)=g(x)$\n",
    "\n",
    "$g(x)=(b-a)x+a$"
   ]
  },
  {
   "cell_type": "markdown",
   "metadata": {},
   "source": [
    "# 搭建基础网络结构"
   ]
  },
  {
   "cell_type": "code",
   "execution_count": 5,
   "metadata": {},
   "outputs": [],
   "source": [
    "class zsrDGM_net(nn.Module):\n",
    "    def __init__(self,numl,numn):\n",
    "        # numl是有多少层隐藏层\n",
    "        # numn是每层的神经元数量\n",
    "        super(zsrDGM_net, self).__init__()\n",
    "        self.input_layer = nn.Linear(2, numn)#前面的数字代表几个输入\n",
    "        self.hidden_layers = nn.ModuleList([nn.Linear(numn, numn) for i in range(numl)])\n",
    "        self.output_layer = nn.Linear(numn, 1)\n",
    "    def forward(self, x):\n",
    "        o = self.act(self.input_layer(x))\n",
    "        for i, li in enumerate(self.hidden_layers):\n",
    "            o = self.act(li(o))        \n",
    "        out = self.output_layer(o)        \n",
    "        return out\n",
    "    def act(self, x):\n",
    "        return x * torch.tanh(x)"
   ]
  },
  {
   "cell_type": "markdown",
   "metadata": {},
   "source": [
    "# 建立equation"
   ]
  },
  {
   "cell_type": "code",
   "execution_count": 6,
   "metadata": {},
   "outputs": [],
   "source": [
    "class burgers_PDE():\n",
    "    def __init__(self,net,v,alpha,a,b):\n",
    "        self.net=net\n",
    "        self.v=v\n",
    "        self.alpha=alpha\n",
    "        self.a=a\n",
    "        self.b=b\n",
    "    def sample(self,size=2**8):        \n",
    "        x = torch.cat((torch.rand([N1*size, 1]), (torch.rand([N1*size, 1]))),dim=1)#在范围内建立x采样点\n",
    "        x_init = torch.full([N2*size, 1], 0) + torch.rand([N2*size, 1]) \n",
    "        x_initial = torch.cat((torch.zeros(N2*size, 1), x_init), dim=1)#建立初始条件采样\n",
    "        x_boundary_left = torch.cat((torch.rand([N3*size, 1]), torch.full([N3*size, 1], 0)), dim=1)\n",
    "        x_boundary_right = torch.cat((torch.rand([N3*size, 1]), torch.full([N3*size, 1],1)), dim=1)\n",
    "        return x, x_initial, x_init, x_boundary_left, x_boundary_right\n",
    "    def loss_func(self,size=2**8):\n",
    "        x_train, x_initial, x_init, x_boundary_left, x_boundary_right = self.sample(size=size)\n",
    "        x = Variable(x_train, requires_grad=True)\n",
    "        uy=net(x)\n",
    "        d = torch.autograd.grad(net(x), x, grad_outputs=torch.ones_like(net(x)), create_graph=True)\n",
    "        dt = d[0][:, 0].unsqueeze(-1)\n",
    "        dx = d[0][:, 1].unsqueeze(-1)\n",
    "        dxx = torch.autograd.grad(dx, x, grad_outputs=torch.ones_like(dx), create_graph=True)[0][:, 1].unsqueeze(-1)\n",
    "        loss_fn = nn.MSELoss(reduction='mean')\n",
    "        loss1 = loss_fn(dt, self.v*dxx-self.alpha*uy*dx)\n",
    "        loss2 = loss_fn(net(x_initial), torch.zeros([N2*size,1])+(self.b-self.a)*x_init+self.a)\n",
    "        loss3 = loss_fn(net(x_boundary_left), torch.zeros([N3*size,1])+torch.full([N3*size, 1], self.a))\n",
    "        loss4 = loss_fn(net(x_boundary_right),torch.zeros([N3*size,1])+torch.full([N3*size, 1], self.b))\n",
    "        #print('loss1',loss1)\n",
    "        #print('loss2',loss2)\n",
    "        #print('loss3',loss3)\n",
    "        #print('loss4',loss4)\n",
    "        loss = loss1 + loss2 + loss3 + loss4\n",
    "        #print(loss1,loss2,loss3,loss4)\n",
    "        return loss"
   ]
  },
  {
   "cell_type": "markdown",
   "metadata": {},
   "source": [
    "# 训练设置"
   ]
  },
  {
   "cell_type": "code",
   "execution_count": 7,
   "metadata": {},
   "outputs": [],
   "source": [
    "class Train():\n",
    "    def __init__(self, net, eq, BATCH_SIZE):\n",
    "        self.errors = []\n",
    "        self.BATCH_SIZE = BATCH_SIZE\n",
    "        self.net = net\n",
    "        self.model = eq\n",
    "    def train(self, epoch, lr):\n",
    "        optimizer = optim.Adam(self.net.parameters(), lr)\n",
    "        avg_loss = 0\n",
    "        for e in range(epoch):\n",
    "            optimizer.zero_grad()\n",
    "            loss = self.model.loss_func(self.BATCH_SIZE)\n",
    "            avg_loss = avg_loss + float(loss.item())\n",
    "            loss.backward()\n",
    "            optimizer.step()\n",
    "            if e % 100 == 99:\n",
    "                loss = avg_loss/100\n",
    "                print(\"Epoch {} - lr {} -  loss: {}\".format(e, lr, loss))\n",
    "                avg_loss = 0\n",
    "                error = self.model.loss_func(2**6)\n",
    "                self.errors.append(error.detach())\n",
    "    def get_errors(self):\n",
    "        return self.errors"
   ]
  },
  {
   "cell_type": "markdown",
   "metadata": {},
   "source": [
    "# 输入参数，开始训练"
   ]
  },
  {
   "cell_type": "markdown",
   "metadata": {},
   "source": [
    "## 第一组参数"
   ]
  },
  {
   "cell_type": "code",
   "execution_count": 15,
   "metadata": {},
   "outputs": [
    {
     "name": "stdout",
     "output_type": "stream",
     "text": [
      "Epoch 99 - lr 0.0001 -  loss: 1.8800814354419708\n",
      "Epoch 199 - lr 0.0001 -  loss: 1.2312651568651198\n",
      "Epoch 299 - lr 0.0001 -  loss: 0.8064983975887299\n",
      "Epoch 399 - lr 0.0001 -  loss: 0.7586843132972717\n",
      "Epoch 499 - lr 0.0001 -  loss: 0.6053863170742989\n",
      "Epoch 599 - lr 0.0001 -  loss: 0.04627862367779016\n",
      "Epoch 699 - lr 0.0001 -  loss: 0.02226265612989664\n",
      "Epoch 799 - lr 0.0001 -  loss: 0.013152490099892021\n",
      "Epoch 899 - lr 0.0001 -  loss: 0.012029041331261396\n",
      "Epoch 999 - lr 0.0001 -  loss: 0.01598816974554211\n",
      "Epoch 1099 - lr 0.0001 -  loss: 0.013852900685742497\n",
      "Epoch 1199 - lr 0.0001 -  loss: 0.008956187777221203\n",
      "Epoch 1299 - lr 0.0001 -  loss: 0.007022836618125439\n",
      "Epoch 1399 - lr 0.0001 -  loss: 0.005936511610634625\n",
      "Epoch 1499 - lr 0.0001 -  loss: 0.005863192048855126\n"
     ]
    }
   ],
   "source": [
    "net = zsrDGM_net(6, 200)\n",
    "v=0.01\n",
    "alpha=0.95\n",
    "a=0.9\n",
    "b=-0.9\n",
    "N1=1\n",
    "N2=1\n",
    "N3=3\n",
    "equation = burgers_PDE(net,v,alpha,a,b)\n",
    "train = Train(net, equation, BATCH_SIZE=2**8)\n",
    "train.train(epoch=1500, lr=0.0001)\n",
    "torch.save(net, 'model1.pkl')\n",
    "errors = train.get_errors()"
   ]
  },
  {
   "cell_type": "code",
   "execution_count": 16,
   "metadata": {},
   "outputs": [],
   "source": [
    "fig = plt.figure()\n",
    "plt.plot(np.log(errors), '-b', label='Errors')\n",
    "plt.title('Training Loss', fontsize=10)\n",
    "plt.savefig('err1.jpg')\n",
    "plt.close(fig)"
   ]
  },
  {
   "cell_type": "code",
   "execution_count": 8,
   "metadata": {},
   "outputs": [],
   "source": [
    "net=torch.load('model1.pkl')\n",
    "x_1 = torch.tensor([[i/1000] for i in range(0,1000)])\n",
    "x_11 = torch.cat((torch.full([1000, 1],1), x_1), dim=1)\n",
    "ysolve=net(x_11)\n",
    "ysolve=ysolve.detach().numpy()\n",
    "x_range=[i/1000 for i in range(0,1000)]\n",
    "fig=plt.figure(dpi=60)\n",
    "plt.plot(x_range,(ysolve))\n",
    "plt.xlim(0,1)\n",
    "plt.ylim(-1,1)\n",
    "my_x_ticks = np.arange(0, 1.01, 0.2)\n",
    "my_y_ticks = np.arange(-1, 1.1, 0.5)\n",
    "plt.yticks(my_y_ticks)\n",
    "plt.xticks(my_x_ticks)\n",
    "plt.xlabel('x')\n",
    "plt.ylabel('u')\n",
    "plt.savefig('1.jpg')\n",
    "plt.show()"
   ]
  },
  {
   "cell_type": "code",
   "execution_count": 18,
   "metadata": {},
   "outputs": [],
   "source": [
    "import matplotlib.pyplot as plt\n",
    "from matplotlib import animation\n",
    "import numpy as np\n",
    "net=torch.load('model1.pkl')\n",
    "fig, ax = plt.subplots()\n",
    "\n",
    "# 定义存储数据的列表\n",
    "xdata = []\n",
    "ydata = []\n",
    "\n",
    "# 接收line2D对象\n",
    "line, = plt.plot(xdata, ydata, 'b')\n",
    "xdata=[i/100 for i in range(0,100)]\n",
    "\n",
    "# 定义更新函数\n",
    "def update(frames):\n",
    "    x_1 = torch.tensor([[i/100] for i in range(0,100)])\n",
    "    x_11 = torch.cat((torch.full([100, 1],frames), x_1), dim=1)\n",
    "    ysolve1=net(x_11)\n",
    "    ysolve=ysolve1.detach().numpy()\n",
    "    ydata=[ysolve]\n",
    "    # print(frame_ID)\n",
    "    line.set_data(xdata, ydata)\n",
    "    return line,\n",
    "\n",
    "\n",
    "def init_figure():\n",
    "    ax.set_xlim(0, 1)\n",
    "    ax.set_ylim(-1, 1)\n",
    "    ax.set_xlabel('x')\n",
    "    ax.set_ylabel('u')\n",
    "\n",
    "\n",
    "# 调用生成动画的函数生成动图\n",
    "ani = animation.FuncAnimation(\n",
    "    fig=fig,\n",
    "    func=update,\n",
    "    frames=np.linspace(0, 1, 100),    # [1, 2, 3]\n",
    "    init_func=init_figure,\n",
    "    interval=1,   #  每隔多少时间生成一帧图像，单位是ms\n",
    "    repeat=True,   # 设置不重复，但是还是重复较好\n",
    ")\n",
    "\n",
    "plt.show()   # 如果要保存视频和gif就不要show()\n",
    "\n",
    "ani.save('ani_1.gif', writer='pillow')\n",
    "#ani.save('ani_1.mp4', writer='ffmpeg')  # 注意，pillow现在似乎不能报错为mp4格式了，可以使用ffmpeg"
   ]
  },
  {
   "cell_type": "markdown",
   "metadata": {},
   "source": [
    "## 第二组参数"
   ]
  },
  {
   "cell_type": "code",
   "execution_count": 11,
   "metadata": {},
   "outputs": [
    {
     "name": "stdout",
     "output_type": "stream",
     "text": [
      "Epoch 99 - lr 0.0001 -  loss: 1.8541904497146606\n",
      "Epoch 199 - lr 0.0001 -  loss: 1.041292937397957\n",
      "Epoch 299 - lr 0.0001 -  loss: 0.8366931486129761\n",
      "Epoch 399 - lr 0.0001 -  loss: 0.7926911145448685\n",
      "Epoch 499 - lr 0.0001 -  loss: 0.19063443621620535\n",
      "Epoch 599 - lr 0.0001 -  loss: 0.008141566663980485\n",
      "Epoch 699 - lr 0.0001 -  loss: 0.004598336250055581\n",
      "Epoch 799 - lr 0.0001 -  loss: 0.0037454722146503627\n",
      "Epoch 899 - lr 0.0001 -  loss: 0.003409901645500213\n",
      "Epoch 999 - lr 0.0001 -  loss: 0.004153324826620519\n",
      "Epoch 1099 - lr 0.0001 -  loss: 0.0029859915538690985\n",
      "Epoch 1199 - lr 0.0001 -  loss: 0.003740675845183432\n",
      "Epoch 1299 - lr 0.0001 -  loss: 0.0024812370073050262\n",
      "Epoch 1399 - lr 0.0001 -  loss: 0.0023978420719504355\n",
      "Epoch 1499 - lr 0.0001 -  loss: 0.002222717055119574\n"
     ]
    }
   ],
   "source": [
    "net = zsrDGM_net(6, 200)\n",
    "v=0.02\n",
    "alpha=0.95\n",
    "a=0.9\n",
    "b=-0.9\n",
    "N1=1\n",
    "N2=1\n",
    "N3=2\n",
    "equation = burgers_PDE(net,v,alpha,a,b)\n",
    "train = Train(net, equation, BATCH_SIZE=2**8)\n",
    "train.train(epoch=1500, lr=0.0001)\n",
    "torch.save(net, 'model2.pkl')\n",
    "errors = train.get_errors()"
   ]
  },
  {
   "cell_type": "code",
   "execution_count": 12,
   "metadata": {},
   "outputs": [],
   "source": [
    "fig = plt.figure()\n",
    "plt.plot(np.log(errors), '-b', label='Errors')\n",
    "plt.title('Training Loss', fontsize=10)\n",
    "plt.savefig('err2.jpg')\n",
    "plt.close(fig)"
   ]
  },
  {
   "cell_type": "code",
   "execution_count": 13,
   "metadata": {},
   "outputs": [],
   "source": [
    "net=torch.load('model2.pkl')\n",
    "x_1 = torch.tensor([[i/1000] for i in range(0,1000)])\n",
    "x_11 = torch.cat((torch.full([1000, 1],1), x_1), dim=1)\n",
    "ysolve=net(x_11)\n",
    "ysolve=ysolve.detach().numpy()\n",
    "x_range=[i/1000 for i in range(0,1000)]\n",
    "fig=plt.figure(dpi=60)\n",
    "plt.plot(x_range,(ysolve))\n",
    "plt.xlim(0,1)\n",
    "plt.ylim(-1,1)\n",
    "my_x_ticks = np.arange(0, 1.01, 0.2)\n",
    "my_y_ticks = np.arange(-1, 1.1, 0.5)\n",
    "plt.yticks(my_y_ticks)\n",
    "plt.xticks(my_x_ticks)\n",
    "plt.xlabel('x')\n",
    "plt.ylabel('u')\n",
    "plt.savefig('2.jpg')\n",
    "plt.show()"
   ]
  },
  {
   "cell_type": "code",
   "execution_count": 14,
   "metadata": {},
   "outputs": [],
   "source": [
    "import matplotlib.pyplot as plt\n",
    "from matplotlib import animation\n",
    "import numpy as np\n",
    "net=torch.load('model2.pkl')\n",
    "fig, ax = plt.subplots()\n",
    "\n",
    "# 定义存储数据的列表\n",
    "xdata = []\n",
    "ydata = []\n",
    "\n",
    "# 接收line2D对象\n",
    "line, = plt.plot(xdata, ydata, 'b')\n",
    "xdata=[i/100 for i in range(0,100)]\n",
    "\n",
    "# 定义更新函数\n",
    "def update(frames):\n",
    "    x_1 = torch.tensor([[i/100] for i in range(0,100)])\n",
    "    x_11 = torch.cat((torch.full([100, 1],frames), x_1), dim=1)\n",
    "    ysolve1=net(x_11)\n",
    "    ysolve=ysolve1.detach().numpy()\n",
    "    ydata=[ysolve]\n",
    "    # print(frame_ID)\n",
    "    line.set_data(xdata, ydata)\n",
    "    return line,\n",
    "\n",
    "\n",
    "def init_figure():\n",
    "    ax.set_xlim(0, 1)\n",
    "    ax.set_ylim(-1, 1)\n",
    "    ax.set_xlabel('x')\n",
    "    ax.set_ylabel('u')\n",
    "\n",
    "\n",
    "# 调用生成动画的函数生成动图\n",
    "ani = animation.FuncAnimation(\n",
    "    fig=fig,\n",
    "    func=update,\n",
    "    frames=np.linspace(0, 1, 100),    # [1, 2, 3]\n",
    "    init_func=init_figure,\n",
    "    interval=1,   #  每隔多少时间生成一帧图像，单位是ms\n",
    "    repeat=True,   # 设置不重复，但是还是重复较好\n",
    ")\n",
    "\n",
    "plt.show()   # 如果要保存视频和gif就不要show()\n",
    "\n",
    "ani.save('ani_2.gif', writer='pillow')\n",
    "#ani.save('ani_1.mp4', writer='ffmpeg')  # 注意，pillow现在似乎不能报错为mp4格式了，可以使用ffmpeg"
   ]
  },
  {
   "cell_type": "markdown",
   "metadata": {},
   "source": [
    "## 第三组参数"
   ]
  },
  {
   "cell_type": "code",
   "execution_count": null,
   "metadata": {},
   "outputs": [],
   "source": []
  },
  {
   "cell_type": "code",
   "execution_count": 71,
   "metadata": {},
   "outputs": [
    {
     "name": "stdout",
     "output_type": "stream",
     "text": [
      "Epoch 99 - lr 0.0001 -  loss: 2.132560610771179\n",
      "Epoch 199 - lr 0.0001 -  loss: 1.36640456199646\n",
      "Epoch 299 - lr 0.0001 -  loss: 0.21202772927703337\n",
      "Epoch 399 - lr 0.0001 -  loss: 0.0017142704094294458\n",
      "Epoch 499 - lr 0.0001 -  loss: 0.0011222312948666513\n",
      "Epoch 599 - lr 0.0001 -  loss: 0.0011010672460542992\n",
      "Epoch 699 - lr 0.0001 -  loss: 0.0013381043693516403\n",
      "Epoch 799 - lr 0.0001 -  loss: 0.00232218072633259\n",
      "Epoch 899 - lr 0.0001 -  loss: 0.0015043625165708362\n",
      "Epoch 999 - lr 0.0001 -  loss: 0.0015044907387346028\n",
      "Epoch 1099 - lr 0.0001 -  loss: 0.0020706460619112476\n",
      "Epoch 1199 - lr 0.0001 -  loss: 0.0028290474927052858\n",
      "Epoch 1299 - lr 0.0001 -  loss: 0.0010142992355395108\n",
      "Epoch 1399 - lr 0.0001 -  loss: 0.0014972515229601413\n",
      "Epoch 1499 - lr 0.0001 -  loss: 0.0014645669067976997\n",
      "Epoch 1599 - lr 0.0001 -  loss: 0.002523560514673591\n",
      "Epoch 1699 - lr 0.0001 -  loss: 0.0009500779217341915\n",
      "Epoch 1799 - lr 0.0001 -  loss: 0.0018116827687481418\n",
      "Epoch 1899 - lr 0.0001 -  loss: 0.001302789191249758\n",
      "Epoch 1999 - lr 0.0001 -  loss: 0.001579983628471382\n"
     ]
    }
   ],
   "source": [
    "net = zsrDGM_net(6, 200)\n",
    "v=0.02\n",
    "alpha=0.9\n",
    "a=0.9\n",
    "b=0.8\n",
    "N1=2\n",
    "N2=1\n",
    "N3=6\n",
    "equation = burgers_PDE(net,v,alpha,a,b)\n",
    "train = Train(net, equation, BATCH_SIZE=2**8)\n",
    "train.train(epoch=2000, lr=0.0001)\n",
    "torch.save(net, 'model3.pkl')\n",
    "errors = train.get_errors()"
   ]
  },
  {
   "cell_type": "code",
   "execution_count": 73,
   "metadata": {},
   "outputs": [],
   "source": [
    "fig = plt.figure()\n",
    "plt.plot(np.log(errors), '-b', label='Errors')\n",
    "plt.title('Training Loss', fontsize=10)\n",
    "plt.savefig('err3.jpg')\n",
    "plt.close(fig)"
   ]
  },
  {
   "cell_type": "code",
   "execution_count": 76,
   "metadata": {},
   "outputs": [],
   "source": [
    "net=torch.load('model3.pkl')\n",
    "x_1 = torch.tensor([[i/1000] for i in range(0,1000)])\n",
    "x_11 = torch.cat((torch.full([1000, 1],1), x_1), dim=1)\n",
    "ysolve=net(x_11)\n",
    "ysolve=ysolve.detach().numpy()\n",
    "x_range=[i/1000 for i in range(0,1000)]\n",
    "fig=plt.figure(dpi=60)\n",
    "plt.plot(x_range,(ysolve))\n",
    "plt.xlim(0,1)\n",
    "plt.ylim(0.8,0.92)\n",
    "my_x_ticks = np.arange(0, 1.01, 0.2)\n",
    "my_y_ticks = np.arange(0.8, 0.93, 0.02)\n",
    "plt.yticks(my_y_ticks)\n",
    "plt.xticks(my_x_ticks)\n",
    "plt.xlabel('x')\n",
    "plt.ylabel('u')\n",
    "plt.savefig('3.jpg')\n",
    "plt.show()"
   ]
  },
  {
   "cell_type": "code",
   "execution_count": 77,
   "metadata": {},
   "outputs": [],
   "source": [
    "import matplotlib.pyplot as plt\n",
    "from matplotlib import animation\n",
    "import numpy as np\n",
    "net=torch.load('model3.pkl')\n",
    "fig, ax = plt.subplots()\n",
    "\n",
    "# 定义存储数据的列表\n",
    "xdata = []\n",
    "ydata = []\n",
    "\n",
    "# 接收line2D对象\n",
    "line, = plt.plot(xdata, ydata, 'b')\n",
    "xdata=[i/100 for i in range(0,100)]\n",
    "\n",
    "# 定义更新函数\n",
    "def update(frames):\n",
    "    x_1 = torch.tensor([[i/100] for i in range(0,100)])\n",
    "    x_11 = torch.cat((torch.full([100, 1],frames), x_1), dim=1)\n",
    "    ysolve1=net(x_11)\n",
    "    ysolve=ysolve1.detach().numpy()\n",
    "    ydata=[ysolve]\n",
    "    # print(frame_ID)\n",
    "    line.set_data(xdata, ydata)\n",
    "    return line,\n",
    "\n",
    "\n",
    "def init_figure():\n",
    "    ax.set_xlim(0, 1)\n",
    "    ax.set_ylim(0.6,1)\n",
    "    ax.set_xlabel('x')\n",
    "    ax.set_ylabel('u')\n",
    "\n",
    "\n",
    "# 调用生成动画的函数生成动图\n",
    "ani = animation.FuncAnimation(\n",
    "    fig=fig,\n",
    "    func=update,\n",
    "    frames=np.linspace(0, 1, 100),    # [1, 2, 3]\n",
    "    init_func=init_figure,\n",
    "    interval=1,   #  每隔多少时间生成一帧图像，单位是ms\n",
    "    repeat=True,   # 设置不重复，但是还是重复较好\n",
    ")\n",
    "\n",
    "plt.show()   # 如果要保存视频和gif就不要show()\n",
    "\n",
    "ani.save('ani_3.gif', writer='pillow')\n",
    "#ani.save('ani_1.mp4', writer='ffmpeg')  # 注意，pillow现在似乎不能报错为mp4格式了，可以使用ffmpeg"
   ]
  },
  {
   "cell_type": "markdown",
   "metadata": {},
   "source": [
    "## 第四个参数\n"
   ]
  },
  {
   "cell_type": "code",
   "execution_count": 78,
   "metadata": {},
   "outputs": [
    {
     "name": "stdout",
     "output_type": "stream",
     "text": [
      "Epoch 99 - lr 0.0001 -  loss: 1.0504060238599777\n",
      "Epoch 199 - lr 0.0001 -  loss: 0.5562401777505874\n",
      "Epoch 299 - lr 0.0001 -  loss: 0.019698284538462757\n",
      "Epoch 399 - lr 0.0001 -  loss: 0.007384422332979739\n",
      "Epoch 499 - lr 0.0001 -  loss: 0.004216504744254053\n",
      "Epoch 599 - lr 0.0001 -  loss: 0.002959045625757426\n",
      "Epoch 699 - lr 0.0001 -  loss: 0.002658561037387699\n",
      "Epoch 799 - lr 0.0001 -  loss: 0.0023841389268636705\n",
      "Epoch 899 - lr 0.0001 -  loss: 0.0019270122901070862\n",
      "Epoch 999 - lr 0.0001 -  loss: 0.0018809000519104302\n",
      "Epoch 1099 - lr 0.0001 -  loss: 0.0016562186880037188\n",
      "Epoch 1199 - lr 0.0001 -  loss: 0.001701307010371238\n",
      "Epoch 1299 - lr 0.0001 -  loss: 0.0012053268740419298\n",
      "Epoch 1399 - lr 0.0001 -  loss: 0.0014758457412244752\n",
      "Epoch 1499 - lr 0.0001 -  loss: 0.0011242558166850358\n",
      "Epoch 1599 - lr 0.0001 -  loss: 0.0012271988461725414\n",
      "Epoch 1699 - lr 0.0001 -  loss: 0.0013148327043745666\n",
      "Epoch 1799 - lr 0.0001 -  loss: 0.0010198574746027589\n",
      "Epoch 1899 - lr 0.0001 -  loss: 0.0010882308916188776\n",
      "Epoch 1999 - lr 0.0001 -  loss: 0.0011278642882825807\n"
     ]
    }
   ],
   "source": [
    "net = zsrDGM_net(6, 200)\n",
    "v=0.01\n",
    "alpha=0.75\n",
    "a=0.9\n",
    "b=0.1\n",
    "N1=1\n",
    "N2=1\n",
    "N3=3\n",
    "equation = burgers_PDE(net,v,alpha,a,b)\n",
    "train = Train(net, equation, BATCH_SIZE=2**8)\n",
    "train.train(epoch=2000, lr=0.0001)\n",
    "torch.save(net, 'model4.pkl')\n",
    "errors = train.get_errors()"
   ]
  },
  {
   "cell_type": "code",
   "execution_count": 81,
   "metadata": {},
   "outputs": [],
   "source": [
    "fig = plt.figure()\n",
    "plt.plot(np.log(errors), '-b', label='Errors')\n",
    "plt.title('Training Loss', fontsize=10)\n",
    "plt.savefig('err4.jpg')\n",
    "plt.close(fig)"
   ]
  },
  {
   "cell_type": "code",
   "execution_count": 80,
   "metadata": {},
   "outputs": [],
   "source": [
    "net=torch.load('model4.pkl')\n",
    "x_1 = torch.tensor([[i/1000] for i in range(0,1000)])\n",
    "x_11 = torch.cat((torch.full([1000, 1],1), x_1), dim=1)\n",
    "ysolve=net(x_11)\n",
    "ysolve=ysolve.detach().numpy()\n",
    "x_range=[i/1000 for i in range(0,1000)]\n",
    "fig=plt.figure(dpi=60)\n",
    "plt.plot(x_range,(ysolve))\n",
    "plt.xlim(0,1)\n",
    "plt.ylim(0,1)\n",
    "my_x_ticks = np.arange(0, 1.01, 0.2)\n",
    "my_y_ticks = np.arange(0, 1, 0.2)\n",
    "plt.yticks(my_y_ticks)\n",
    "plt.xticks(my_x_ticks)\n",
    "plt.xlabel('x')\n",
    "plt.ylabel('u')\n",
    "plt.savefig('4.jpg')\n",
    "plt.show()"
   ]
  },
  {
   "cell_type": "code",
   "execution_count": 1,
   "metadata": {},
   "outputs": [
    {
     "ename": "NameError",
     "evalue": "name 'torch' is not defined",
     "output_type": "error",
     "traceback": [
      "\u001b[1;31m---------------------------------------------------------------------------\u001b[0m",
      "\u001b[1;31mNameError\u001b[0m                                 Traceback (most recent call last)",
      "Input \u001b[1;32mIn [1]\u001b[0m, in \u001b[0;36m<cell line: 4>\u001b[1;34m()\u001b[0m\n\u001b[0;32m      2\u001b[0m \u001b[38;5;28;01mfrom\u001b[39;00m \u001b[38;5;21;01mmatplotlib\u001b[39;00m \u001b[38;5;28;01mimport\u001b[39;00m animation\n\u001b[0;32m      3\u001b[0m \u001b[38;5;28;01mimport\u001b[39;00m \u001b[38;5;21;01mnumpy\u001b[39;00m \u001b[38;5;28;01mas\u001b[39;00m \u001b[38;5;21;01mnp\u001b[39;00m\n\u001b[1;32m----> 4\u001b[0m net\u001b[38;5;241m=\u001b[39m\u001b[43mtorch\u001b[49m\u001b[38;5;241m.\u001b[39mload(\u001b[38;5;124m'\u001b[39m\u001b[38;5;124mmodel4.pkl\u001b[39m\u001b[38;5;124m'\u001b[39m)\n\u001b[0;32m      5\u001b[0m fig, ax \u001b[38;5;241m=\u001b[39m plt\u001b[38;5;241m.\u001b[39msubplots()\n\u001b[0;32m      7\u001b[0m \u001b[38;5;66;03m# 定义存储数据的列表\u001b[39;00m\n",
      "\u001b[1;31mNameError\u001b[0m: name 'torch' is not defined"
     ]
    }
   ],
   "source": [
    "import matplotlib.pyplot as plt\n",
    "from matplotlib import animation\n",
    "import numpy as np\n",
    "net=torch.load('model4.pkl')\n",
    "fig, ax = plt.subplots()\n",
    "\n",
    "# 定义存储数据的列表\n",
    "xdata = []\n",
    "ydata = []\n",
    "\n",
    "# 接收line2D对象\n",
    "line, = plt.plot(xdata, ydata, 'b')\n",
    "xdata=[i/100 for i in range(0,100)]\n",
    "\n",
    "# 定义更新函数\n",
    "def update(frames):\n",
    "    x_1 = torch.tensor([[i/100] for i in range(0,100)])\n",
    "    x_11 = torch.cat((torch.full([100, 1],frames), x_1), dim=1)\n",
    "    ysolve1=net(x_11)\n",
    "    ysolve=ysolve1.detach().numpy()\n",
    "    ydata=[ysolve]\n",
    "    # print(frame_ID)\n",
    "    line.set_data(xdata, ydata)\n",
    "    return line,\n",
    "\n",
    "\n",
    "def init_figure():\n",
    "    ax.set_xlim(0, 1)\n",
    "    ax.set_ylim(0,1)\n",
    "    ax.set_xlabel('x')\n",
    "    ax.set_ylabel('u')\n",
    "\n",
    "\n",
    "# 调用生成动画的函数生成动图\n",
    "ani = animation.FuncAnimation(\n",
    "    fig=fig,\n",
    "    func=update,\n",
    "    frames=np.linspace(0, 1, 100),    # [1, 2, 3]\n",
    "    init_func=init_figure,\n",
    "    interval=1,   #  每隔多少时间生成一帧图像，单位是ms\n",
    "    repeat=True,   # 设置不重复，但是还是重复较好\n",
    ")\n",
    "\n",
    "plt.show()   # 如果要保存视频和gif就不要show()\n",
    "\n",
    "ani.save('ani_4.gif', writer='pillow')\n",
    "#ani.save('ani_1.mp4', writer='ffmpeg')  # 注意，pillow现在似乎不能报错为mp4格式了，可以使用ffmpeg"
   ]
  },
  {
   "cell_type": "code",
   "execution_count": null,
   "metadata": {},
   "outputs": [],
   "source": []
  }
 ],
 "metadata": {
  "kernelspec": {
   "display_name": "Python 3 (ipykernel)",
   "language": "python",
   "name": "python3"
  },
  "language_info": {
   "codemirror_mode": {
    "name": "ipython",
    "version": 3
   },
   "file_extension": ".py",
   "mimetype": "text/x-python",
   "name": "python",
   "nbconvert_exporter": "python",
   "pygments_lexer": "ipython3",
   "version": "3.8.13"
  },
  "toc": {
   "base_numbering": 1,
   "nav_menu": {},
   "number_sections": true,
   "sideBar": true,
   "skip_h1_title": false,
   "title_cell": "Table of Contents",
   "title_sidebar": "Contents",
   "toc_cell": false,
   "toc_position": {},
   "toc_section_display": true,
   "toc_window_display": false
  }
 },
 "nbformat": 4,
 "nbformat_minor": 2
}
